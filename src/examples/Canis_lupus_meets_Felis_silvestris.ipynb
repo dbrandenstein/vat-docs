{
 "cells": [
  {
   "cell_type": "markdown",
   "id": "27e7db06-303a-4b6f-a25f-6489abbbad45",
   "metadata": {},
   "source": [
    "# *Canis lupus* meets *Felis silvestris*"
   ]
  },
  {
   "metadata": {},
   "cell_type": "markdown",
   "source": "**++ Currently, the examples are being reworked after the latest update because GBIF behaves differently now. [Find out more](/updates/updates_and_changes.html). ++**",
   "id": "996c8bb2707157c3"
  },
  {
   "cell_type": "markdown",
   "id": "33609e61-30c8-47e2-835a-637ddaeceaf8",
   "metadata": {},
   "source": [
    "This workflow uses the VAT to compare the occurrence of *Canis lupus* and *Felis silvestris* as a function of land use classification from the Ökosystematlas. \n",
    "\n",
    "The purpose of this notebook is also to demonstrate the capabilities of Geo Engine. Therefore some useful techniques will be shown: \n",
    "- Using the GBIF data catalogue\n",
    "- Point in polygon selection\n",
    "- Raster vector join of occurrence data with land use classification\n",
    "- Plotting a class histogram\n",
    "- Nested workflows\n",
    "\n",
    "When building your own nested workflow, it is recommended to build it in several steps as shown in this notebook.\n",
    "\n",
    "Documentation about the operators and how to use them in Python can be found here: [https://docs.geoengine.io/operators/intro.html](https://docs.geoengine.io/operators/intro.html)"
   ]
  },
  {
   "cell_type": "markdown",
   "id": "6e9adb9c-4350-4eb1-8079-b0735b61a01f",
   "metadata": {},
   "source": [
    "## Preparation"
   ]
  },
  {
   "cell_type": "code",
   "execution_count": 1,
   "id": "07de7b2b-45a9-4528-88b0-181883055f5c",
   "metadata": {},
   "outputs": [
    {
     "data": {
      "text/plain": [
       "RendererRegistry.enable('default')"
      ]
     },
     "execution_count": 1,
     "metadata": {},
     "output_type": "execute_result"
    }
   ],
   "source": [
    "#Import packages\n",
    "import geoengine as ge\n",
    "import geoengine_openapi_client\n",
    "from datetime import datetime\n",
    "from geoengine.types import RasterBandDescriptor\n",
    "import altair as alt\n",
    "\n",
    "alt.renderers.enable('default')"
   ]
  },
  {
   "cell_type": "code",
   "execution_count": 2,
   "id": "5114f0de-699c-4d7e-8a17-4ff2a282112a",
   "metadata": {},
   "outputs": [],
   "source": [
    "#Initialize Geo Engine in VAT\n",
    "ge.initialize(\"https://vat.gfbio.org/api\")"
   ]
  },
  {
   "cell_type": "code",
   "execution_count": 3,
   "id": "d23065aa-27c9-4798-8264-5fcedc13da37",
   "metadata": {},
   "outputs": [
    {
     "data": {
      "text/plain": [
       "'1c01dbb9-e3ab-f9a2-06f5-228ba4b6bf7a'"
      ]
     },
     "execution_count": 3,
     "metadata": {},
     "output_type": "execute_result"
    }
   ],
   "source": [
    "#Get the GBIF DataProvider id (Useful for translating the DataProvider name to its id)\n",
    "root_collection = ge.layer_collection()\n",
    "gbif_prov_id = ''\n",
    "for elem in root_collection.items:\n",
    "    if elem.name == 'GBIF':\n",
    "        gbif_prov_id = str(elem.provider_id)\n",
    "        \n",
    "gbif_prov_id"
   ]
  },
  {
   "cell_type": "markdown",
   "id": "9693a304-d0a3-458d-83b9-20559bf2164e",
   "metadata": {},
   "source": [
    "## Load boundaries of Germany for later GBIF occurrence extraction (optional)"
   ]
  },
  {
   "cell_type": "markdown",
   "id": "d4e7ea5b-7ee4-4a2b-a7f8-32fe66ca322d",
   "metadata": {},
   "source": [
    "This chapter is not required and only shows that country borders are available."
   ]
  },
  {
   "cell_type": "code",
   "execution_count": 4,
   "id": "69b7866c-3f22-4ea5-a562-43982941edde",
   "metadata": {},
   "outputs": [
    {
     "data": {
      "text/plain": [
       "2429a993-385f-546f-b4f7-97b3ba4a5adb"
      ]
     },
     "execution_count": 4,
     "metadata": {},
     "output_type": "execute_result"
    }
   ],
   "source": [
    "#Create workflow to request German border\n",
    "workflow_germany = ge.register_workflow({\n",
    "    \"type\": \"Vector\",\n",
    "    \"operator\": {\n",
    "        \"type\": \"OgrSource\",\n",
    "        \"params\": {\n",
    "            \"data\": \"germany\",\n",
    "        }\n",
    "    }\n",
    "})\n",
    "\n",
    "workflow_germany"
   ]
  },
  {
   "cell_type": "code",
   "execution_count": 5,
   "id": "7649173c-a92d-4ab8-a19a-cd43fe07c184",
   "metadata": {},
   "outputs": [
    {
     "data": {
      "text/plain": [
       "<Axes: >"
      ]
     },
     "execution_count": 5,
     "metadata": {},
     "output_type": "execute_result"
    },
    {
     "data": {
      "image/png": "[encoded data removed]",
      "text/plain": [
       "<Figure size 640x480 with 1 Axes>"
      ]
     },
     "metadata": {},
     "output_type": "display_data"
    }
   ],
   "source": [
    "#Set time\n",
    "time = datetime.strptime(\n",
    "    '2014-04-01T12:00:00.000Z', \"%Y-%m-%dT%H:%M:%S.%f%z\")\n",
    "\n",
    "#Request the data from Geo Engine into a geopandas dataframe\n",
    "data = workflow_germany.get_dataframe(\n",
    "    ge.QueryRectangle(\n",
    "        ge.BoundingBox2D(5.852490, 47.271121, 15.022059, 55.065334),\n",
    "        ge.TimeInterval(time, time),\n",
    "        resolution=ge.SpatialResolution(0.1, 0.1),\n",
    "        srs=\"EPSG:4326\"\n",
    "    )\n",
    ")\n",
    "\n",
    "#Plot the data\n",
    "data.plot()"
   ]
  },
  {
   "cell_type": "markdown",
   "id": "48f58785-91fd-492d-8c21-ec1ac7fac160",
   "metadata": {},
   "source": [
    "## Load Ökosystematlas for later raster vector join with occurrence data (optional)"
   ]
  },
  {
   "cell_type": "markdown",
   "id": "053b40d2-f367-465d-823e-729244308183",
   "metadata": {},
   "source": [
    "This chapter is not needed and only shows that raster data is also available."
   ]
  },
  {
   "cell_type": "code",
   "execution_count": 6,
   "id": "bf5b7580-6501-4722-90f2-3384a4d409a0",
   "metadata": {},
   "outputs": [
    {
     "data": {
      "text/plain": [
       "8a859eeb-0778-5190-a9d1-b1f787e4176d"
      ]
     },
     "execution_count": 6,
     "metadata": {},
     "output_type": "execute_result"
    }
   ],
   "source": [
    "#Create a workflow to request the oekosystematlas raster data\n",
    "workflow_oekosystematlas = ge.register_workflow({ \n",
    "    \"type\": \"Raster\",\n",
    "    \"operator\": {\n",
    "        \"type\": \"GdalSource\",\n",
    "        \"params\": {\n",
    "            \"data\": \"oekosystematlas\"\n",
    "        }\n",
    "    }\n",
    "})\n",
    "\n",
    "workflow_oekosystematlas"
   ]
  },
  {
   "cell_type": "code",
   "execution_count": 7,
   "id": "d0f6952f-6205-4eeb-a187-0585373e9a22",
   "metadata": {},
   "outputs": [
    {
     "name": "stderr",
     "output_type": "stream",
     "text": [
      "/home/duempelmann/geoengine_env/lib/python3.10/site-packages/owslib/coverage/wcs110.py:85: FutureWarning: The behavior of this method will change in future versions. Use specific 'len(elem)' or 'elem is not None' test instead.\n",
      "  elem = self._capabilities.find(self.ns.OWS('ServiceProvider')) or self._capabilities.find(self.ns.OWS('ServiceProvider'))  # noqa\n"
     ]
    },
    {
     "data": {
      "text/plain": [
       "<matplotlib.collections.QuadMesh at 0x7ff5c67292d0>"
      ]
     },
     "execution_count": 7,
     "metadata": {},
     "output_type": "execute_result"
    },
    {
     "data": {
      "image/png": "[encoded data removed]",
      "text/plain": [
       "<Figure size 640x480 with 2 Axes>"
      ]
     },
     "metadata": {},
     "output_type": "display_data"
    }
   ],
   "source": [
    "#Set time\n",
    "time = datetime.strptime(\n",
    "    '2014-04-01T12:00:00.000Z', \"%Y-%m-%dT%H:%M:%S.%f%z\")\n",
    "\n",
    "#Request the data from Geo Engine into a xarray dataarray\n",
    "data = workflow_oekosystematlas.get_xarray(\n",
    "    ge.QueryRectangle(\n",
    "        ge.BoundingBox2D(5.852490, 47.271121, 15.022059, 55.065334),\n",
    "        ge.TimeInterval(time, time),\n",
    "        resolution=ge.SpatialResolution(0.1, 0.1),\n",
    "        srs=\"EPSG:4326\"\n",
    "    )\n",
    ")\n",
    "\n",
    "#Plot the data\n",
    "data.plot(vmax=75)"
   ]
  },
  {
   "cell_type": "code",
   "execution_count": null,
   "id": "fa41b437-8712-4bd1-a109-a5b35f745a50",
   "metadata": {},
   "outputs": [],
   "source": []
  },
  {
   "cell_type": "markdown",
   "id": "18ec65ea-fcb0-4281-901f-f9b27bbd8543",
   "metadata": {},
   "source": [
    "## Processing *Canis lupus*"
   ]
  },
  {
   "cell_type": "markdown",
   "id": "d54d8029-8b4f-486a-9c2f-eb2ad74b2e3a",
   "metadata": {},
   "source": [
    "None of the following steps are theoretically necessary, as the entire workflow will be projected in the nested request in the end. However, the steps are intended to show the capabilities of Geo Engine."
   ]
  },
  {
   "cell_type": "markdown",
   "id": "5874f04f-bfe2-4c28-8d88-b97d394bc371",
   "metadata": {},
   "source": [
    "### Load *Canis lupus* (Optional)"
   ]
  },
  {
   "cell_type": "code",
   "execution_count": 8,
   "id": "afa62051-91a3-4ee4-b692-40e8c40523b7",
   "metadata": {},
   "outputs": [
    {
     "data": {
      "text/plain": [
       "Data type:         MultiPoint\n",
       "Spatial Reference: EPSG:4326\n",
       "Columns:\n",
       "  scientificname:\n",
       "    Column Type: text\n",
       "    Measurement: unitless\n",
       "  gbifid:\n",
       "    Column Type: int\n",
       "    Measurement: unitless\n",
       "  basisofrecord:\n",
       "    Column Type: text\n",
       "    Measurement: unitless"
      ]
     },
     "execution_count": 8,
     "metadata": {},
     "output_type": "execute_result"
    }
   ],
   "source": [
    "#Create workflow to request Canis lupus incidents\n",
    "workflow_canis_lupus = ge.register_workflow({\n",
    "    \"type\": \"Vector\",\n",
    "    \"operator\": {\n",
    "        \"type\": \"OgrSource\",\n",
    "        \"params\": {\n",
    "            \"data\": f\"_:{gbif_prov_id}:`species/Canis lupus`\",\n",
    "        }\n",
    "    }\n",
    "})\n",
    "\n",
    "workflow_canis_lupus.get_result_descriptor()"
   ]
  },
  {
   "cell_type": "code",
   "execution_count": 9,
   "id": "8743d5c3-90ed-4226-8298-2ad2ded406e2",
   "metadata": {},
   "outputs": [
    {
     "data": {
      "text/plain": [
       "<Axes: >"
      ]
     },
     "execution_count": 9,
     "metadata": {},
     "output_type": "execute_result"
    },
    {
     "data": {
      "image/png": "[encoded data removed]",
      "text/plain": [
       "<Figure size 640x480 with 1 Axes>"
      ]
     },
     "metadata": {},
     "output_type": "display_data"
    }
   ],
   "source": [
    "#Set time\n",
    "time = datetime.strptime(\n",
    "    '2014-04-01T12:00:00.000Z', \"%Y-%m-%dT%H:%M:%S.%f%z\")\n",
    "\n",
    "#Request the data from Geo Engine into a geopandas dataframe\n",
    "data = workflow_canis_lupus.get_dataframe(\n",
    "    ge.QueryRectangle(\n",
    "        ge.BoundingBox2D(5.852490, 47.271121, 15.022059, 55.065334),\n",
    "        ge.TimeInterval(time, time),\n",
    "        resolution=ge.SpatialResolution(0.1, 0.1),\n",
    "        srs=\"EPSG:4326\"\n",
    "    )\n",
    ")\n",
    "\n",
    "#Plot the data\n",
    "data.plot()"
   ]
  },
  {
   "cell_type": "markdown",
   "id": "2161a2e5-a77e-41a3-95a3-c5b2f702f03f",
   "metadata": {},
   "source": [
    "### Point in Polygon *Canis lupus*"
   ]
  },
  {
   "cell_type": "code",
   "execution_count": 10,
   "id": "452af01f-9f17-4487-bd6f-51b393622a9c",
   "metadata": {},
   "outputs": [
    {
     "data": {
      "text/plain": [
       "f30ac841-81b0-5301-bac6-840dd914c1ba"
      ]
     },
     "execution_count": 10,
     "metadata": {},
     "output_type": "execute_result"
    }
   ],
   "source": [
    "#Create workflow to request Canis lupus incidents filtered by German border\n",
    "workflow_canis_lupus_cut = ge.register_workflow({\n",
    "    \"type\": \"Vector\",\n",
    "    \"operator\": {\n",
    "        \"type\": \"PointInPolygonFilter\",\n",
    "        \"params\": {},\n",
    "        \"sources\": {\n",
    "            \"points\": { #Canis lupus ###############################\n",
    "                \"type\": \"OgrSource\",\n",
    "                \"params\": {\n",
    "                    \"data\": f\"_:{gbif_prov_id}:`species/Canis lupus`\",\n",
    "                    \"attributeProjection\": []\n",
    "                } \n",
    "            }, #####################################################\n",
    "            \"polygons\": { #Germany #################################\n",
    "                \"type\": \"OgrSource\",\n",
    "                \"params\": {\n",
    "                    \"data\": \"germany\"\n",
    "                }\n",
    "            } ######################################################\n",
    "        } \n",
    "    }\n",
    "})\n",
    "\n",
    "workflow_canis_lupus_cut"
   ]
  },
  {
   "cell_type": "code",
   "execution_count": 11,
   "id": "324f3d73-29ce-431d-9317-1fd353e2ddb4",
   "metadata": {},
   "outputs": [
    {
     "data": {
      "text/plain": [
       "<Axes: >"
      ]
     },
     "execution_count": 11,
     "metadata": {},
     "output_type": "execute_result"
    },
    {
     "data": {
      "image/png": "[encoded data removed]",
      "text/plain": [
       "<Figure size 640x480 with 1 Axes>"
      ]
     },
     "metadata": {},
     "output_type": "display_data"
    }
   ],
   "source": [
    "#Set time\n",
    "time = datetime.strptime(\n",
    "    '2014-04-01T12:00:00.000Z', \"%Y-%m-%dT%H:%M:%S.%f%z\")\n",
    "\n",
    "#Request the data from Geo Engine into a geopandas dataframe\n",
    "data_canis_lupus = workflow_canis_lupus_cut.get_dataframe(\n",
    "    ge.QueryRectangle(\n",
    "        ge.BoundingBox2D(5.852490, 47.271121, 15.022059, 55.065334),\n",
    "        ge.TimeInterval(time, time),\n",
    "        resolution=ge.SpatialResolution(0.1, 0.1),\n",
    "        srs=\"EPSG:4326\"\n",
    "    )\n",
    ")\n",
    "\n",
    "#Plot the data\n",
    "data_canis_lupus.plot()"
   ]
  },
  {
   "cell_type": "markdown",
   "id": "506e17f0-9768-4aa5-9618-b9b38008a15a",
   "metadata": {},
   "source": [
    "### Nested Point in Polygon and Raster Vector Join *Canis lupus*"
   ]
  },
  {
   "cell_type": "code",
   "execution_count": 12,
   "id": "b5504e64-06e2-47b3-bc01-8a40d1af9239",
   "metadata": {},
   "outputs": [
    {
     "data": {
      "text/plain": [
       "2c8ebbbc-b848-58e6-8f5c-f51976db3c8f"
      ]
     },
     "execution_count": 12,
     "metadata": {},
     "output_type": "execute_result"
    }
   ],
   "source": [
    "#Create a workflow to request Canis lupus occurrences filtered by the German border and linked to the Ökosystematlas data.\n",
    "workflow_canis_lupus_cut_join = ge.register_workflow({\n",
    "    \"type\": \"Vector\",\n",
    "    \"operator\": {\n",
    "        \"type\": \"RasterVectorJoin\",\n",
    "        \"params\": {\n",
    "            \"names\": {\n",
    "                \"type\": \"names\",\n",
    "                \"values\": [\"Ökosystematlas\"]\n",
    "            },  \n",
    "            \"temporalAggregation\": \"none\",\n",
    "            \"featureAggregation\": \"mean\",\n",
    "        },\n",
    "        \"sources\": {\n",
    "            \"vector\": { #Canis lupus cut ######################################\n",
    "                \"type\": \"PointInPolygonFilter\", \n",
    "                \"params\": {},\n",
    "                \"sources\": {\n",
    "                    \"points\": {\n",
    "                        \"type\": \"OgrSource\",\n",
    "                        \"params\": {\n",
    "                            \"data\": f\"_:{gbif_prov_id}:`species/Canis lupus`\",\n",
    "                            \"attributeProjection\": []\n",
    "                        }\n",
    "                    },\n",
    "                    \"polygons\": {\n",
    "                        \"type\": \"OgrSource\",\n",
    "                        \"params\": {\n",
    "                            \"data\": \"germany\"\n",
    "                        }\n",
    "                    }\n",
    "                }\n",
    "            }, ##############################################################\n",
    "            \"rasters\": [{ #Ökosystematlas ###################################\n",
    "                \"type\": \"GdalSource\",\n",
    "                \"params\": {\n",
    "                    \"data\": \"oekosystematlas\"\n",
    "                }\n",
    "            }] ##############################################################\n",
    "        },\n",
    "    }\n",
    "})\n",
    "\n",
    "workflow_canis_lupus_cut_join"
   ]
  },
  {
   "cell_type": "code",
   "execution_count": 13,
   "id": "06045847-6874-4843-8bc2-03358151198d",
   "metadata": {},
   "outputs": [
    {
     "data": {
      "text/html": [
       "<div>\n",
       "<style scoped>\n",
       "    .dataframe tbody tr th:only-of-type {\n",
       "        vertical-align: middle;\n",
       "    }\n",
       "\n",
       "    .dataframe tbody tr th {\n",
       "        vertical-align: top;\n",
       "    }\n",
       "\n",
       "    .dataframe thead th {\n",
       "        text-align: right;\n",
       "    }\n",
       "</style>\n",
       "<table border=\"1\" class=\"dataframe\">\n",
       "  <thead>\n",
       "    <tr style=\"text-align: right;\">\n",
       "      <th></th>\n",
       "      <th>geometry</th>\n",
       "      <th>basisofrecord</th>\n",
       "      <th>gbifid</th>\n",
       "      <th>scientificname</th>\n",
       "      <th>Ökosystematlas</th>\n",
       "      <th>start</th>\n",
       "      <th>end</th>\n",
       "    </tr>\n",
       "  </thead>\n",
       "  <tbody>\n",
       "    <tr>\n",
       "      <th>0</th>\n",
       "      <td>POINT (9.49776 52.08503)</td>\n",
       "      <td>HUMAN_OBSERVATION</td>\n",
       "      <td>3447336010</td>\n",
       "      <td>Canis familiaris Linnaeus, 1758</td>\n",
       "      <td>10.0</td>\n",
       "      <td>NaT</td>\n",
       "      <td>NaT</td>\n",
       "    </tr>\n",
       "    <tr>\n",
       "      <th>1</th>\n",
       "      <td>POINT (8.63148 50.01629)</td>\n",
       "      <td>HUMAN_OBSERVATION</td>\n",
       "      <td>1579887520</td>\n",
       "      <td>Canis familiaris Linnaeus, 1758</td>\n",
       "      <td>3.0</td>\n",
       "      <td>NaT</td>\n",
       "      <td>NaT</td>\n",
       "    </tr>\n",
       "    <tr>\n",
       "      <th>2</th>\n",
       "      <td>POINT (9.55500 48.97333)</td>\n",
       "      <td>HUMAN_OBSERVATION</td>\n",
       "      <td>1579896270</td>\n",
       "      <td>Canis familiaris Linnaeus, 1758</td>\n",
       "      <td>12.0</td>\n",
       "      <td>NaT</td>\n",
       "      <td>NaT</td>\n",
       "    </tr>\n",
       "    <tr>\n",
       "      <th>3</th>\n",
       "      <td>POINT (6.14376 50.81583)</td>\n",
       "      <td>HUMAN_OBSERVATION</td>\n",
       "      <td>1883797122</td>\n",
       "      <td>Canis familiaris Linnaeus, 1758</td>\n",
       "      <td>8.0</td>\n",
       "      <td>NaT</td>\n",
       "      <td>NaT</td>\n",
       "    </tr>\n",
       "    <tr>\n",
       "      <th>4</th>\n",
       "      <td>POINT (10.29174 48.88160)</td>\n",
       "      <td>HUMAN_OBSERVATION</td>\n",
       "      <td>1891284730</td>\n",
       "      <td>Canis familiaris Linnaeus, 1758</td>\n",
       "      <td>10.0</td>\n",
       "      <td>NaT</td>\n",
       "      <td>NaT</td>\n",
       "    </tr>\n",
       "    <tr>\n",
       "      <th>...</th>\n",
       "      <td>...</td>\n",
       "      <td>...</td>\n",
       "      <td>...</td>\n",
       "      <td>...</td>\n",
       "      <td>...</td>\n",
       "      <td>...</td>\n",
       "      <td>...</td>\n",
       "    </tr>\n",
       "    <tr>\n",
       "      <th>1362</th>\n",
       "      <td>POINT (14.90000 51.35000)</td>\n",
       "      <td>HUMAN_OBSERVATION</td>\n",
       "      <td>3725545490</td>\n",
       "      <td>Canis lupus Linnaeus, 1758</td>\n",
       "      <td>11.0</td>\n",
       "      <td>NaT</td>\n",
       "      <td>NaT</td>\n",
       "    </tr>\n",
       "    <tr>\n",
       "      <th>1363</th>\n",
       "      <td>POINT (12.42115 51.19143)</td>\n",
       "      <td>HUMAN_OBSERVATION</td>\n",
       "      <td>3712440633</td>\n",
       "      <td>Canis lupus Linnaeus, 1758</td>\n",
       "      <td>2.0</td>\n",
       "      <td>NaT</td>\n",
       "      <td>NaT</td>\n",
       "    </tr>\n",
       "    <tr>\n",
       "      <th>1364</th>\n",
       "      <td>POINT (14.20000 51.45000)</td>\n",
       "      <td>HUMAN_OBSERVATION</td>\n",
       "      <td>2837851869</td>\n",
       "      <td>Canis lupus Linnaeus, 1758</td>\n",
       "      <td>2.0</td>\n",
       "      <td>NaT</td>\n",
       "      <td>NaT</td>\n",
       "    </tr>\n",
       "    <tr>\n",
       "      <th>1365</th>\n",
       "      <td>POINT (14.85000 51.35000)</td>\n",
       "      <td>HUMAN_OBSERVATION</td>\n",
       "      <td>2836478160</td>\n",
       "      <td>Canis lupus Linnaeus, 1758</td>\n",
       "      <td>6.0</td>\n",
       "      <td>NaT</td>\n",
       "      <td>NaT</td>\n",
       "    </tr>\n",
       "    <tr>\n",
       "      <th>1366</th>\n",
       "      <td>POINT (6.51747 49.46328)</td>\n",
       "      <td>HUMAN_OBSERVATION</td>\n",
       "      <td>2511463696</td>\n",
       "      <td>Canis lupus Linnaeus, 1758</td>\n",
       "      <td>10.0</td>\n",
       "      <td>NaT</td>\n",
       "      <td>NaT</td>\n",
       "    </tr>\n",
       "  </tbody>\n",
       "</table>\n",
       "<p>1367 rows × 7 columns</p>\n",
       "</div>"
      ],
      "text/plain": [
       "                       geometry      basisofrecord      gbifid  \\\n",
       "0      POINT (9.49776 52.08503)  HUMAN_OBSERVATION  3447336010   \n",
       "1      POINT (8.63148 50.01629)  HUMAN_OBSERVATION  1579887520   \n",
       "2      POINT (9.55500 48.97333)  HUMAN_OBSERVATION  1579896270   \n",
       "3      POINT (6.14376 50.81583)  HUMAN_OBSERVATION  1883797122   \n",
       "4     POINT (10.29174 48.88160)  HUMAN_OBSERVATION  1891284730   \n",
       "...                         ...                ...         ...   \n",
       "1362  POINT (14.90000 51.35000)  HUMAN_OBSERVATION  3725545490   \n",
       "1363  POINT (12.42115 51.19143)  HUMAN_OBSERVATION  3712440633   \n",
       "1364  POINT (14.20000 51.45000)  HUMAN_OBSERVATION  2837851869   \n",
       "1365  POINT (14.85000 51.35000)  HUMAN_OBSERVATION  2836478160   \n",
       "1366   POINT (6.51747 49.46328)  HUMAN_OBSERVATION  2511463696   \n",
       "\n",
       "                       scientificname  Ökosystematlas start end  \n",
       "0     Canis familiaris Linnaeus, 1758            10.0   NaT NaT  \n",
       "1     Canis familiaris Linnaeus, 1758             3.0   NaT NaT  \n",
       "2     Canis familiaris Linnaeus, 1758            12.0   NaT NaT  \n",
       "3     Canis familiaris Linnaeus, 1758             8.0   NaT NaT  \n",
       "4     Canis familiaris Linnaeus, 1758            10.0   NaT NaT  \n",
       "...                               ...             ...   ...  ..  \n",
       "1362       Canis lupus Linnaeus, 1758            11.0   NaT NaT  \n",
       "1363       Canis lupus Linnaeus, 1758             2.0   NaT NaT  \n",
       "1364       Canis lupus Linnaeus, 1758             2.0   NaT NaT  \n",
       "1365       Canis lupus Linnaeus, 1758             6.0   NaT NaT  \n",
       "1366       Canis lupus Linnaeus, 1758            10.0   NaT NaT  \n",
       "\n",
       "[1367 rows x 7 columns]"
      ]
     },
     "execution_count": 13,
     "metadata": {},
     "output_type": "execute_result"
    }
   ],
   "source": [
    "#Set time\n",
    "time = datetime.strptime(\n",
    "    '2014-04-01T12:00:00.000Z', \"%Y-%m-%dT%H:%M:%S.%f%z\")\n",
    "\n",
    "#Request the data from Geo Engine into a geopandas dataframe\n",
    "data = workflow_canis_lupus_cut_join.get_dataframe(\n",
    "    ge.QueryRectangle(\n",
    "        ge.BoundingBox2D(5.852490, 47.271121, 15.022059, 55.065334),\n",
    "        ge.TimeInterval(time, time),\n",
    "        resolution=ge.SpatialResolution(0.1, 0.1),\n",
    "        srs=\"EPSG:4326\"\n",
    "    )\n",
    ")\n",
    "\n",
    "#Show the geopandas dataframe\n",
    "data"
   ]
  },
  {
   "cell_type": "markdown",
   "id": "49c33810-0485-4b2d-9a9f-c5f44abf2e1f",
   "metadata": {},
   "source": [
    "It can be seen that the Ökosystematlas variable is numerical, while the classes are human-readable encoded in the metadata of the files. This can be adjusted using a class histogram"
   ]
  },
  {
   "cell_type": "markdown",
   "id": "9724027e-bab5-4af4-b271-6a774a21f0b6",
   "metadata": {},
   "source": [
    "## Nested Full Workflow *Canis lupus*"
   ]
  },
  {
   "cell_type": "code",
   "execution_count": 14,
   "id": "ab1db921-1cd3-4d93-8c14-c800a72adebc",
   "metadata": {},
   "outputs": [
    {
     "data": {
      "text/plain": [
       "b182c10b-59ce-5d5b-946f-fccc3ae04c88"
      ]
     },
     "execution_count": 14,
     "metadata": {},
     "output_type": "execute_result"
    }
   ],
   "source": [
    "#Create a workflow to plot Canis lupus occurrences filtered by the German border and merged with Ökosystematlas data as a class histogram.\n",
    "workflow_canis_lupus_full = ge.register_workflow({\n",
    "    \"type\": \"Plot\",\n",
    "    \"operator\": {\n",
    "       \"type\": \"ClassHistogram\",\n",
    "       \"params\": {\n",
    "          \"columnName\": \"Ökosystematlas\"\n",
    "       },\n",
    "        \"sources\": {\n",
    "            \"source\": { #Canis lupus cut join #####################################\n",
    "                \"type\": \"RasterVectorJoin\",\n",
    "                \"params\": {\n",
    "                        \"names\": {\n",
    "                            \"type\": \"names\",\n",
    "                            \"values\": [\"Ökosystematlas\"]\n",
    "                        }, \n",
    "                        \"temporalAggregation\": \"none\",\n",
    "                        \"featureAggregation\": \"mean\",\n",
    "                },\n",
    "                \"sources\": {\n",
    "                    \"vector\": {\n",
    "                        \"type\": \"PointInPolygonFilter\",\n",
    "                        \"params\": {},\n",
    "                        \"sources\": {\n",
    "                            \"points\": {\n",
    "                                \"type\": \"OgrSource\",\n",
    "                                \"params\": {\n",
    "                                    \"data\": f\"_:{gbif_prov_id}:`species/Canis lupus`\",\n",
    "                                    \"attributeProjection\": []\n",
    "                                }\n",
    "                            },\n",
    "                            \"polygons\": {\n",
    "                                \"type\": \"OgrSource\",\n",
    "                                \"params\": {\n",
    "                                    \"data\": \"germany\"\n",
    "                                }\n",
    "                            }\n",
    "                        }\n",
    "                    },\n",
    "                    \"rasters\": [{\n",
    "                        \"type\": \"GdalSource\",\n",
    "                        \"params\": {\n",
    "                            \"data\": \"oekosystematlas\"\n",
    "                        }\n",
    "                    }]\n",
    "                }\n",
    "            } ######################################################################\n",
    "       }\n",
    "    }\n",
    "})\n",
    "    \n",
    "workflow_canis_lupus_full"
   ]
  },
  {
   "cell_type": "code",
   "execution_count": 15,
   "id": "bc529bbc-3dac-4172-b6a1-ef39fb9ebba9",
   "metadata": {},
   "outputs": [
    {
     "data": {
      "text/html": [
       "\n",
       "<style>\n",
       "  #altair-viz-7a93059878984893b16e048721be3ffd.vega-embed {\n",
       "    width: 100%;\n",
       "    display: flex;\n",
       "  }\n",
       "\n",
       "  #altair-viz-7a93059878984893b16e048721be3ffd.vega-embed details,\n",
       "  #altair-viz-7a93059878984893b16e048721be3ffd.vega-embed details summary {\n",
       "    position: relative;\n",
       "  }\n",
       "</style>\n",
       "<div id=\"altair-viz-7a93059878984893b16e048721be3ffd\"></div>\n",
       "<script type=\"text/javascript\">\n",
       "  var VEGA_DEBUG = (typeof VEGA_DEBUG == \"undefined\") ? {} : VEGA_DEBUG;\n",
       "  (function(spec, embedOpt){\n",
       "    let outputDiv = document.currentScript.previousElementSibling;\n",
       "    if (outputDiv.id !== \"altair-viz-7a93059878984893b16e048721be3ffd\") {\n",
       "      outputDiv = document.getElementById(\"altair-viz-7a93059878984893b16e048721be3ffd\");\n",
       "    }\n",
       "    const paths = {\n",
       "      \"vega\": \"https://cdn.jsdelivr.net/npm/vega@5?noext\",\n",
       "      \"vega-lib\": \"https://cdn.jsdelivr.net/npm/vega-lib?noext\",\n",
       "      \"vega-lite\": \"https://cdn.jsdelivr.net/npm/vega-lite@5.16.3?noext\",\n",
       "      \"vega-embed\": \"https://cdn.jsdelivr.net/npm/vega-embed@6?noext\",\n",
       "    };\n",
       "\n",
       "    function maybeLoadScript(lib, version) {\n",
       "      var key = `${lib.replace(\"-\", \"\")}_version`;\n",
       "      return (VEGA_DEBUG[key] == version) ?\n",
       "        Promise.resolve(paths[lib]) :\n",
       "        new Promise(function(resolve, reject) {\n",
       "          var s = document.createElement('script');\n",
       "          document.getElementsByTagName(\"head\")[0].appendChild(s);\n",
       "          s.async = true;\n",
       "          s.onload = () => {\n",
       "            VEGA_DEBUG[key] = version;\n",
       "            return resolve(paths[lib]);\n",
       "          };\n",
       "          s.onerror = () => reject(`Error loading script: ${paths[lib]}`);\n",
       "          s.src = paths[lib];\n",
       "        });\n",
       "    }\n",
       "\n",
       "    function showError(err) {\n",
       "      outputDiv.innerHTML = `<div class=\"error\" style=\"color:red;\">${err}</div>`;\n",
       "      throw err;\n",
       "    }\n",
       "\n",
       "    function displayChart(vegaEmbed) {\n",
       "      vegaEmbed(outputDiv, spec, embedOpt)\n",
       "        .catch(err => showError(`Javascript Error: ${err.message}<br>This usually means there's a typo in your chart specification. See the javascript console for the full traceback.`));\n",
       "    }\n",
       "\n",
       "    if(typeof define === \"function\" && define.amd) {\n",
       "      requirejs.config({paths});\n",
       "      require([\"vega-embed\"], displayChart, err => showError(`Error loading script: ${err.message}`));\n",
       "    } else {\n",
       "      maybeLoadScript(\"vega\", \"5\")\n",
       "        .then(() => maybeLoadScript(\"vega-lite\", \"5.16.3\"))\n",
       "        .then(() => maybeLoadScript(\"vega-embed\", \"6\"))\n",
       "        .catch(showError)\n",
       "        .then(() => displayChart(vegaEmbed));\n",
       "    }\n",
       "  })({\"config\": {\"view\": {\"continuousWidth\": 300, \"continuousHeight\": 300}}, \"data\": {\"name\": \"data-0b131b4d59b0b956f7e95f713ccd6306\"}, \"mark\": \"bar\", \"encoding\": {\"x\": {\"axis\": {\"labelAngle\": -45}, \"field\": \"Land Cover\", \"type\": \"nominal\"}, \"y\": {\"field\": \"Frequency\", \"type\": \"quantitative\"}}, \"width\": \"container\", \"$schema\": \"https://vega.github.io/schema/vega-lite/v5.json\", \"datasets\": {\"data-0b131b4d59b0b956f7e95f713ccd6306\": [{\"Frequency\": 0, \"Land Cover\": \"Abbaufl\\u00e4chen, Deponien und Baustellen\"}, {\"Frequency\": 560, \"Land Cover\": \"Ackerland\"}, {\"Frequency\": 8, \"Land Cover\": \"Dauerlandkulturen\"}, {\"Frequency\": 0, \"Land Cover\": \"Feldhecken\"}, {\"Frequency\": 3, \"Land Cover\": \"Feuchtgebiete\"}, {\"Frequency\": 0, \"Land Cover\": \"Flie\\u00dfgew\\u00e4sser\"}, {\"Frequency\": 26, \"Land Cover\": \"Freizeit- und urbane Gr\\u00fcnfl\\u00e4chen\"}, {\"Frequency\": 143, \"Land Cover\": \"Gr\\u00fcnland\"}, {\"Frequency\": 0, \"Land Cover\": \"K\\u00fcstennahe Meeresgew\\u00e4sser\"}, {\"Frequency\": 224, \"Land Cover\": \"Laubw\\u00e4lder\"}, {\"Frequency\": 16, \"Land Cover\": \"Mischw\\u00e4lder\"}, {\"Frequency\": 103, \"Land Cover\": \"Nadelw\\u00e4lder\"}, {\"Frequency\": 8, \"Land Cover\": \"Nat\\u00fcrliche und extensiv genutzte Gr\\u00fcnfl\\u00e4chen\"}, {\"Frequency\": 17, \"Land Cover\": \"No data\"}, {\"Frequency\": 0, \"Land Cover\": \"Offene Meere\"}, {\"Frequency\": 0, \"Land Cover\": \"Siedlungsfl\\u00e4che mit hoher Baudichte\"}, {\"Frequency\": 215, \"Land Cover\": \"Siedlungsfl\\u00e4che mit niedriger Baudichte\"}, {\"Frequency\": 33, \"Land Cover\": \"Standgew\\u00e4sser\"}, {\"Frequency\": 0, \"Land Cover\": \"Vegetationsarme Fl\\u00e4chen\"}, {\"Frequency\": 3, \"Land Cover\": \"Verkehrsinfrastruktur\"}, {\"Frequency\": 8, \"Land Cover\": \"Wald-Strauch-\\u00dcbergangsfl\\u00e4chen\"}, {\"Frequency\": 0, \"Land Cover\": \"Watt\"}]}}, {\"mode\": \"vega-lite\"});\n",
       "</script>"
      ],
      "text/plain": [
       "alt.Chart(...)"
      ]
     },
     "execution_count": 15,
     "metadata": {},
     "output_type": "execute_result"
    }
   ],
   "source": [
    "#Request the plot from Geo Engine\n",
    "plot_canis_lupus = workflow_canis_lupus_full.plot_chart(\n",
    "    ge.QueryRectangle(\n",
    "        ge.BoundingBox2D(5.852490, 47.271121, 15.022059, 55.065334),\n",
    "        ge.TimeInterval(time, time),\n",
    "        resolution=ge.SpatialResolution(0.1, 0.1),\n",
    "        srs=\"EPSG:4326\"\n",
    "    )\n",
    ")\n",
    "\n",
    "#Show the plot\n",
    "alt.Chart.from_dict(plot_canis_lupus.spec)"
   ]
  },
  {
   "cell_type": "markdown",
   "id": "dc9c3bb5-60dc-4b43-aa0d-1c3833d5d746",
   "metadata": {},
   "source": [
    "## Processing *Felis silvestris*"
   ]
  },
  {
   "cell_type": "markdown",
   "id": "6f829495-82fb-4871-8778-4182ed66b48e",
   "metadata": {},
   "source": [
    "None of the following steps are theoretically necessary, as the entire workflow will be projected in the nested request in the end. However, the steps are intended to show the capabilities of Geo Engine."
   ]
  },
  {
   "cell_type": "markdown",
   "id": "3d0eb12c-ccb6-4f4f-8ab5-ddfd08ac82ea",
   "metadata": {},
   "source": [
    "### Load *Felis silvestris* (Optional)"
   ]
  },
  {
   "cell_type": "code",
   "execution_count": 16,
   "id": "48844f8c-a72a-4fe9-9894-7151a2cc82c4",
   "metadata": {},
   "outputs": [
    {
     "data": {
      "text/plain": [
       "f8d5abd5-7d5f-567e-97a2-7830052d6cbf"
      ]
     },
     "execution_count": 16,
     "metadata": {},
     "output_type": "execute_result"
    }
   ],
   "source": [
    "#Create workflow to request Felis silvestris occurrences\n",
    "workflow_felis_silvestris = ge.register_workflow({\n",
    "    \"type\": \"Vector\",\n",
    "    \"operator\": {\n",
    "        \"type\": \"OgrSource\",\n",
    "        \"params\": {\n",
    "            \"data\": f\"_:{gbif_prov_id}:`species/Felis silvestris`\",\n",
    "        }\n",
    "    }\n",
    "})\n",
    "\n",
    "workflow_felis_silvestris"
   ]
  },
  {
   "cell_type": "code",
   "execution_count": 17,
   "id": "8291f064-fc2a-4602-8a4a-ef9253f5b217",
   "metadata": {},
   "outputs": [
    {
     "data": {
      "text/plain": [
       "<Axes: >"
      ]
     },
     "execution_count": 17,
     "metadata": {},
     "output_type": "execute_result"
    },
    {
     "data": {
      "image/png": "[encoded data removed]",
      "text/plain": [
       "<Figure size 640x480 with 1 Axes>"
      ]
     },
     "metadata": {},
     "output_type": "display_data"
    }
   ],
   "source": [
    "#Set time\n",
    "time = datetime.strptime(\n",
    "    '2014-04-01T12:00:00.000Z', \"%Y-%m-%dT%H:%M:%S.%f%z\")\n",
    "\n",
    "#Request the data from Geo Engine into a geopandas dataframe\n",
    "data = workflow_felis_silvestris.get_dataframe(\n",
    "    ge.QueryRectangle(\n",
    "        ge.BoundingBox2D(5.852490, 47.271121, 15.022059, 55.065334),\n",
    "        ge.TimeInterval(time, time),\n",
    "        resolution=ge.SpatialResolution(0.1, 0.1),\n",
    "        srs=\"EPSG:4326\"\n",
    "    )\n",
    ")\n",
    "\n",
    "#Plot the data\n",
    "data.plot()"
   ]
  },
  {
   "cell_type": "markdown",
   "id": "59deaba3-1105-4f60-a406-1a2bd0c59032",
   "metadata": {},
   "source": [
    "### Point in Polygon *Felis silvestris*"
   ]
  },
  {
   "cell_type": "code",
   "execution_count": 18,
   "id": "149e185b-b3e0-40bf-8e32-372b7ae8ec4a",
   "metadata": {},
   "outputs": [
    {
     "data": {
      "text/plain": [
       "518c27b3-0ce7-56ac-b826-5a72be463a73"
      ]
     },
     "execution_count": 18,
     "metadata": {},
     "output_type": "execute_result"
    }
   ],
   "source": [
    "#Create workflow to request Felis silvestris occurrences filtered by German border\n",
    "workflow_felis_silvestris_cut = ge.register_workflow({\n",
    "    \"type\": \"Vector\",\n",
    "    \"operator\": {\n",
    "        \"type\": \"PointInPolygonFilter\",\n",
    "        \"params\": {},\n",
    "        \"sources\": {\n",
    "            \"points\": { #Felis silvestris ################################\n",
    "                \"type\": \"OgrSource\",\n",
    "                \"params\": {\n",
    "                    \"data\": f\"_:{gbif_prov_id}:`species/Felis silvestris`\",\n",
    "                    \"attributeProjection\": []\n",
    "                }\n",
    "            }, ###########################################################\n",
    "            \"polygons\": { #Germany #######################################\n",
    "                \"type\": \"OgrSource\",\n",
    "                \"params\": {\n",
    "                    \"data\": \"germany\"\n",
    "                }\n",
    "            } ############################################################\n",
    "        } \n",
    "    }\n",
    "})\n",
    "\n",
    "workflow_felis_silvestris_cut"
   ]
  },
  {
   "cell_type": "code",
   "execution_count": 19,
   "id": "168c1368-d4ba-4d60-ad42-739e8d8c385d",
   "metadata": {},
   "outputs": [
    {
     "data": {
      "text/plain": [
       "<Axes: >"
      ]
     },
     "execution_count": 19,
     "metadata": {},
     "output_type": "execute_result"
    },
    {
     "data": {
      "image/png": "[encoded data removed]",
      "text/plain": [
       "<Figure size 640x480 with 1 Axes>"
      ]
     },
     "metadata": {},
     "output_type": "display_data"
    }
   ],
   "source": [
    "#Set time\n",
    "time = datetime.strptime(\n",
    "    '2014-04-01T12:00:00.000Z', \"%Y-%m-%dT%H:%M:%S.%f%z\")\n",
    "\n",
    "#Request the data from Geo Engine into a geopandas dataframe\n",
    "data_felis_silvestris = workflow_felis_silvestris_cut.get_dataframe(\n",
    "    ge.QueryRectangle(\n",
    "        ge.BoundingBox2D(5.852490, 47.271121, 15.022059, 55.065334),\n",
    "        ge.TimeInterval(time, time),\n",
    "        resolution=ge.SpatialResolution(0.1, 0.1),\n",
    "        srs=\"EPSG:4326\"\n",
    "    )\n",
    ")\n",
    "\n",
    "#Plot the data\n",
    "data_felis_silvestris.plot()"
   ]
  },
  {
   "cell_type": "markdown",
   "id": "9732666a-c8e7-44eb-b73d-20ded4af296b",
   "metadata": {},
   "source": [
    "### Nested Point in Polygon and Raster Vector Join *Felis silvestris*"
   ]
  },
  {
   "cell_type": "code",
   "execution_count": 20,
   "id": "fde236f6-819f-463d-a872-b11c857138b7",
   "metadata": {},
   "outputs": [
    {
     "data": {
      "text/plain": [
       "355b4e59-65cc-5cfe-a0b4-636f4d41beab"
      ]
     },
     "execution_count": 20,
     "metadata": {},
     "output_type": "execute_result"
    }
   ],
   "source": [
    "#Create a workflow to request Felis silvestris occurrences filtered by the German border and linked to the Ökosystematlas data.\n",
    "workflow_felis_silvestris_cut_join = ge.register_workflow({\n",
    "    \"type\": \"Vector\",\n",
    "    \"operator\": {\n",
    "        \"type\": \"RasterVectorJoin\",\n",
    "        \"params\": {\n",
    "                \"names\": {\n",
    "                    \"type\": \"names\",\n",
    "                    \"values\": [\"Ökosystematlas\"]\n",
    "                }, \n",
    "                \"temporalAggregation\": \"none\",\n",
    "                \"featureAggregation\": \"mean\",\n",
    "        },\n",
    "        \"sources\": {\n",
    "            \"vector\": { #Felis silvestris cut #####################################\n",
    "                \"type\": \"PointInPolygonFilter\", \n",
    "                \"params\": {},\n",
    "                \"sources\": {\n",
    "                    \"points\": {\n",
    "                        \"type\": \"OgrSource\",\n",
    "                        \"params\": {\n",
    "                            \"data\": f\"_:{gbif_prov_id}:`species/Felis silvestris`\",\n",
    "                            \"attributeProjection\": []\n",
    "                        }\n",
    "                    },\n",
    "                    \"polygons\": {\n",
    "                        \"type\": \"OgrSource\",\n",
    "                        \"params\": {\n",
    "                            \"data\": \"germany\"\n",
    "                        }\n",
    "                    }\n",
    "                }\n",
    "            }, ###################################################################\n",
    "            \"rasters\": [{ #Ökosystematlas ########################################\n",
    "                \"type\": \"GdalSource\",\n",
    "                \"params\": {\n",
    "                    \"data\": \"oekosystematlas\"\n",
    "                }\n",
    "            }] ###################################################################\n",
    "        },\n",
    "    }\n",
    "})\n",
    "\n",
    "workflow_felis_silvestris_cut_join"
   ]
  },
  {
   "cell_type": "code",
   "execution_count": 21,
   "id": "39b557cf-bbc7-412c-b7c3-8d0dfb81f0cc",
   "metadata": {},
   "outputs": [
    {
     "data": {
      "text/html": [
       "<div>\n",
       "<style scoped>\n",
       "    .dataframe tbody tr th:only-of-type {\n",
       "        vertical-align: middle;\n",
       "    }\n",
       "\n",
       "    .dataframe tbody tr th {\n",
       "        vertical-align: top;\n",
       "    }\n",
       "\n",
       "    .dataframe thead th {\n",
       "        text-align: right;\n",
       "    }\n",
       "</style>\n",
       "<table border=\"1\" class=\"dataframe\">\n",
       "  <thead>\n",
       "    <tr style=\"text-align: right;\">\n",
       "      <th></th>\n",
       "      <th>geometry</th>\n",
       "      <th>basisofrecord</th>\n",
       "      <th>gbifid</th>\n",
       "      <th>scientificname</th>\n",
       "      <th>Ökosystematlas</th>\n",
       "      <th>start</th>\n",
       "      <th>end</th>\n",
       "    </tr>\n",
       "  </thead>\n",
       "  <tbody>\n",
       "    <tr>\n",
       "      <th>0</th>\n",
       "      <td>POINT (7.20540 50.62800)</td>\n",
       "      <td>PRESERVED_SPECIMEN</td>\n",
       "      <td>3774757358</td>\n",
       "      <td>Felis silvestris Schreber, 1777</td>\n",
       "      <td>11.0</td>\n",
       "      <td>NaT</td>\n",
       "      <td>NaT</td>\n",
       "    </tr>\n",
       "    <tr>\n",
       "      <th>1</th>\n",
       "      <td>POINT (8.08720 50.78140)</td>\n",
       "      <td>MATERIAL_SAMPLE</td>\n",
       "      <td>3774757042</td>\n",
       "      <td>Felis silvestris Schreber, 1777</td>\n",
       "      <td>10.0</td>\n",
       "      <td>NaT</td>\n",
       "      <td>NaT</td>\n",
       "    </tr>\n",
       "    <tr>\n",
       "      <th>2</th>\n",
       "      <td>POINT (6.74050 50.43160)</td>\n",
       "      <td>PRESERVED_SPECIMEN</td>\n",
       "      <td>3774755207</td>\n",
       "      <td>Felis silvestris Schreber, 1777</td>\n",
       "      <td>8.0</td>\n",
       "      <td>NaT</td>\n",
       "      <td>NaT</td>\n",
       "    </tr>\n",
       "    <tr>\n",
       "      <th>3</th>\n",
       "      <td>POINT (6.36984 50.50914)</td>\n",
       "      <td>HUMAN_OBSERVATION</td>\n",
       "      <td>1828993691</td>\n",
       "      <td>Felis silvestris Schreber, 1777</td>\n",
       "      <td>14.0</td>\n",
       "      <td>NaT</td>\n",
       "      <td>NaT</td>\n",
       "    </tr>\n",
       "    <tr>\n",
       "      <th>4</th>\n",
       "      <td>POINT (6.92310 50.62580)</td>\n",
       "      <td>PRESERVED_SPECIMEN</td>\n",
       "      <td>3774754593</td>\n",
       "      <td>Felis silvestris Schreber, 1777</td>\n",
       "      <td>6.0</td>\n",
       "      <td>NaT</td>\n",
       "      <td>NaT</td>\n",
       "    </tr>\n",
       "    <tr>\n",
       "      <th>...</th>\n",
       "      <td>...</td>\n",
       "      <td>...</td>\n",
       "      <td>...</td>\n",
       "      <td>...</td>\n",
       "      <td>...</td>\n",
       "      <td>...</td>\n",
       "      <td>...</td>\n",
       "    </tr>\n",
       "    <tr>\n",
       "      <th>1156</th>\n",
       "      <td>POINT (6.13130 50.10320)</td>\n",
       "      <td>HUMAN_OBSERVATION</td>\n",
       "      <td>3695923471</td>\n",
       "      <td>Felis silvestris Schreber, 1777</td>\n",
       "      <td>10.0</td>\n",
       "      <td>NaT</td>\n",
       "      <td>NaT</td>\n",
       "    </tr>\n",
       "    <tr>\n",
       "      <th>1157</th>\n",
       "      <td>POINT (6.13130 50.10320)</td>\n",
       "      <td>HUMAN_OBSERVATION</td>\n",
       "      <td>3695924066</td>\n",
       "      <td>Felis silvestris Schreber, 1777</td>\n",
       "      <td>10.0</td>\n",
       "      <td>NaT</td>\n",
       "      <td>NaT</td>\n",
       "    </tr>\n",
       "    <tr>\n",
       "      <th>1158</th>\n",
       "      <td>POINT (6.13130 50.10320)</td>\n",
       "      <td>HUMAN_OBSERVATION</td>\n",
       "      <td>3695924069</td>\n",
       "      <td>Felis silvestris Schreber, 1777</td>\n",
       "      <td>10.0</td>\n",
       "      <td>NaT</td>\n",
       "      <td>NaT</td>\n",
       "    </tr>\n",
       "    <tr>\n",
       "      <th>1159</th>\n",
       "      <td>POINT (8.29065 50.12195)</td>\n",
       "      <td>HUMAN_OBSERVATION</td>\n",
       "      <td>841588052</td>\n",
       "      <td>Felis silvestris Schreber, 1777</td>\n",
       "      <td>11.0</td>\n",
       "      <td>NaT</td>\n",
       "      <td>NaT</td>\n",
       "    </tr>\n",
       "    <tr>\n",
       "      <th>1160</th>\n",
       "      <td>POINT (6.13130 50.10320)</td>\n",
       "      <td>HUMAN_OBSERVATION</td>\n",
       "      <td>3695923382</td>\n",
       "      <td>Felis silvestris Schreber, 1777</td>\n",
       "      <td>10.0</td>\n",
       "      <td>NaT</td>\n",
       "      <td>NaT</td>\n",
       "    </tr>\n",
       "  </tbody>\n",
       "</table>\n",
       "<p>1161 rows × 7 columns</p>\n",
       "</div>"
      ],
      "text/plain": [
       "                      geometry       basisofrecord      gbifid  \\\n",
       "0     POINT (7.20540 50.62800)  PRESERVED_SPECIMEN  3774757358   \n",
       "1     POINT (8.08720 50.78140)     MATERIAL_SAMPLE  3774757042   \n",
       "2     POINT (6.74050 50.43160)  PRESERVED_SPECIMEN  3774755207   \n",
       "3     POINT (6.36984 50.50914)   HUMAN_OBSERVATION  1828993691   \n",
       "4     POINT (6.92310 50.62580)  PRESERVED_SPECIMEN  3774754593   \n",
       "...                        ...                 ...         ...   \n",
       "1156  POINT (6.13130 50.10320)   HUMAN_OBSERVATION  3695923471   \n",
       "1157  POINT (6.13130 50.10320)   HUMAN_OBSERVATION  3695924066   \n",
       "1158  POINT (6.13130 50.10320)   HUMAN_OBSERVATION  3695924069   \n",
       "1159  POINT (8.29065 50.12195)   HUMAN_OBSERVATION   841588052   \n",
       "1160  POINT (6.13130 50.10320)   HUMAN_OBSERVATION  3695923382   \n",
       "\n",
       "                       scientificname  Ökosystematlas start end  \n",
       "0     Felis silvestris Schreber, 1777            11.0   NaT NaT  \n",
       "1     Felis silvestris Schreber, 1777            10.0   NaT NaT  \n",
       "2     Felis silvestris Schreber, 1777             8.0   NaT NaT  \n",
       "3     Felis silvestris Schreber, 1777            14.0   NaT NaT  \n",
       "4     Felis silvestris Schreber, 1777             6.0   NaT NaT  \n",
       "...                               ...             ...   ...  ..  \n",
       "1156  Felis silvestris Schreber, 1777            10.0   NaT NaT  \n",
       "1157  Felis silvestris Schreber, 1777            10.0   NaT NaT  \n",
       "1158  Felis silvestris Schreber, 1777            10.0   NaT NaT  \n",
       "1159  Felis silvestris Schreber, 1777            11.0   NaT NaT  \n",
       "1160  Felis silvestris Schreber, 1777            10.0   NaT NaT  \n",
       "\n",
       "[1161 rows x 7 columns]"
      ]
     },
     "execution_count": 21,
     "metadata": {},
     "output_type": "execute_result"
    }
   ],
   "source": [
    "#Set time\n",
    "time = datetime.strptime(\n",
    "    '2014-04-01T12:00:00.000Z', \"%Y-%m-%dT%H:%M:%S.%f%z\")\n",
    "\n",
    "#Request the data from Geo Engine into a geopandas dataframe\n",
    "data = workflow_felis_silvestris_cut_join.get_dataframe(\n",
    "    ge.QueryRectangle(\n",
    "        ge.BoundingBox2D(5.852490, 47.271121, 15.022059, 55.065334),\n",
    "        ge.TimeInterval(time, time),\n",
    "        resolution=ge.SpatialResolution(0.1, 0.1),\n",
    "        srs=\"EPSG:4326\"\n",
    "    )\n",
    ")\n",
    "\n",
    "#Show the geopandas dataframe\n",
    "data"
   ]
  },
  {
   "cell_type": "markdown",
   "id": "6eae968e-5bab-4a7d-831f-18126c56b2a8",
   "metadata": {},
   "source": [
    "## Nested Full Workflow *Felis silvestris*"
   ]
  },
  {
   "cell_type": "code",
   "execution_count": 22,
   "id": "9c7e36f5-b8ee-4ef4-82d3-3187cbf3e84d",
   "metadata": {},
   "outputs": [
    {
     "data": {
      "text/plain": [
       "db03640c-cf0e-5fe0-978c-f45a55eb5da3"
      ]
     },
     "execution_count": 22,
     "metadata": {},
     "output_type": "execute_result"
    }
   ],
   "source": [
    "#Create a workflow to plot Felis silvestris occurrences filtered by the German border and merged with the Ökosystematlas data as a class histogram.\n",
    "workflow_felis_silvestris_full = ge.register_workflow({\n",
    "    \"type\": \"Plot\",\n",
    "    \"operator\": {\n",
    "       \"type\": \"ClassHistogram\",\n",
    "       \"params\": {\n",
    "          \"columnName\": \"Ökosystematlas\"\n",
    "       },\n",
    "        \"sources\": {\n",
    "            \"source\": {\n",
    "                \"type\": \"RasterVectorJoin\",\n",
    "                \"params\": {\n",
    "                        \"names\": {\n",
    "                            \"type\": \"names\",\n",
    "                            \"values\": [\"Ökosystematlas\"]\n",
    "                        }, \n",
    "                        \"temporalAggregation\": \"none\",\n",
    "                        \"featureAggregation\": \"mean\",\n",
    "                },\n",
    "                \"sources\": {\n",
    "                    \"vector\": {\n",
    "                        \"type\": \"PointInPolygonFilter\",\n",
    "                        \"params\": {},\n",
    "                        \"sources\": {\n",
    "                            \"points\": {\n",
    "                                \"type\": \"OgrSource\",\n",
    "                                \"params\": {\n",
    "                                    \"data\": f\"_:{gbif_prov_id}:`species/Felis silvestris`\",\n",
    "                                    \"attributeProjection\": []\n",
    "                                }\n",
    "                            },\n",
    "                            \"polygons\": {\n",
    "                                \"type\": \"OgrSource\",\n",
    "                                \"params\": {\n",
    "                                    \"data\": \"germany\"\n",
    "                                }\n",
    "                            }\n",
    "                        }\n",
    "                    },\n",
    "                    \"rasters\": [{\n",
    "                        \"type\": \"GdalSource\",\n",
    "                        \"params\": {\n",
    "                            \"data\": \"oekosystematlas\"\n",
    "                        }\n",
    "                    }]\n",
    "                }\n",
    "            }\n",
    "       }\n",
    "    }\n",
    "})\n",
    "    \n",
    "workflow_felis_silvestris_full"
   ]
  },
  {
   "cell_type": "code",
   "execution_count": 23,
   "id": "e1dc9986-6163-4d99-83af-42fa00aa1831",
   "metadata": {},
   "outputs": [
    {
     "data": {
      "text/html": [
       "\n",
       "<style>\n",
       "  #altair-viz-559da736d39049bfa458744dbe45e769.vega-embed {\n",
       "    width: 100%;\n",
       "    display: flex;\n",
       "  }\n",
       "\n",
       "  #altair-viz-559da736d39049bfa458744dbe45e769.vega-embed details,\n",
       "  #altair-viz-559da736d39049bfa458744dbe45e769.vega-embed details summary {\n",
       "    position: relative;\n",
       "  }\n",
       "</style>\n",
       "<div id=\"altair-viz-559da736d39049bfa458744dbe45e769\"></div>\n",
       "<script type=\"text/javascript\">\n",
       "  var VEGA_DEBUG = (typeof VEGA_DEBUG == \"undefined\") ? {} : VEGA_DEBUG;\n",
       "  (function(spec, embedOpt){\n",
       "    let outputDiv = document.currentScript.previousElementSibling;\n",
       "    if (outputDiv.id !== \"altair-viz-559da736d39049bfa458744dbe45e769\") {\n",
       "      outputDiv = document.getElementById(\"altair-viz-559da736d39049bfa458744dbe45e769\");\n",
       "    }\n",
       "    const paths = {\n",
       "      \"vega\": \"https://cdn.jsdelivr.net/npm/vega@5?noext\",\n",
       "      \"vega-lib\": \"https://cdn.jsdelivr.net/npm/vega-lib?noext\",\n",
       "      \"vega-lite\": \"https://cdn.jsdelivr.net/npm/vega-lite@5.16.3?noext\",\n",
       "      \"vega-embed\": \"https://cdn.jsdelivr.net/npm/vega-embed@6?noext\",\n",
       "    };\n",
       "\n",
       "    function maybeLoadScript(lib, version) {\n",
       "      var key = `${lib.replace(\"-\", \"\")}_version`;\n",
       "      return (VEGA_DEBUG[key] == version) ?\n",
       "        Promise.resolve(paths[lib]) :\n",
       "        new Promise(function(resolve, reject) {\n",
       "          var s = document.createElement('script');\n",
       "          document.getElementsByTagName(\"head\")[0].appendChild(s);\n",
       "          s.async = true;\n",
       "          s.onload = () => {\n",
       "            VEGA_DEBUG[key] = version;\n",
       "            return resolve(paths[lib]);\n",
       "          };\n",
       "          s.onerror = () => reject(`Error loading script: ${paths[lib]}`);\n",
       "          s.src = paths[lib];\n",
       "        });\n",
       "    }\n",
       "\n",
       "    function showError(err) {\n",
       "      outputDiv.innerHTML = `<div class=\"error\" style=\"color:red;\">${err}</div>`;\n",
       "      throw err;\n",
       "    }\n",
       "\n",
       "    function displayChart(vegaEmbed) {\n",
       "      vegaEmbed(outputDiv, spec, embedOpt)\n",
       "        .catch(err => showError(`Javascript Error: ${err.message}<br>This usually means there's a typo in your chart specification. See the javascript console for the full traceback.`));\n",
       "    }\n",
       "\n",
       "    if(typeof define === \"function\" && define.amd) {\n",
       "      requirejs.config({paths});\n",
       "      require([\"vega-embed\"], displayChart, err => showError(`Error loading script: ${err.message}`));\n",
       "    } else {\n",
       "      maybeLoadScript(\"vega\", \"5\")\n",
       "        .then(() => maybeLoadScript(\"vega-lite\", \"5.16.3\"))\n",
       "        .then(() => maybeLoadScript(\"vega-embed\", \"6\"))\n",
       "        .catch(showError)\n",
       "        .then(() => displayChart(vegaEmbed));\n",
       "    }\n",
       "  })({\"config\": {\"view\": {\"continuousWidth\": 300, \"continuousHeight\": 300}}, \"data\": {\"name\": \"data-996c3a05a6cfb1a77a818dfb9ae2980a\"}, \"mark\": \"bar\", \"encoding\": {\"x\": {\"axis\": {\"labelAngle\": -45}, \"field\": \"Land Cover\", \"type\": \"nominal\"}, \"y\": {\"field\": \"Frequency\", \"type\": \"quantitative\"}}, \"width\": \"container\", \"$schema\": \"https://vega.github.io/schema/vega-lite/v5.json\", \"datasets\": {\"data-996c3a05a6cfb1a77a818dfb9ae2980a\": [{\"Frequency\": 0, \"Land Cover\": \"Abbaufl\\u00e4chen, Deponien und Baustellen\"}, {\"Frequency\": 175, \"Land Cover\": \"Ackerland\"}, {\"Frequency\": 7, \"Land Cover\": \"Dauerlandkulturen\"}, {\"Frequency\": 0, \"Land Cover\": \"Feldhecken\"}, {\"Frequency\": 0, \"Land Cover\": \"Feuchtgebiete\"}, {\"Frequency\": 10, \"Land Cover\": \"Flie\\u00dfgew\\u00e4sser\"}, {\"Frequency\": 4, \"Land Cover\": \"Freizeit- und urbane Gr\\u00fcnfl\\u00e4chen\"}, {\"Frequency\": 197, \"Land Cover\": \"Gr\\u00fcnland\"}, {\"Frequency\": 0, \"Land Cover\": \"K\\u00fcstennahe Meeresgew\\u00e4sser\"}, {\"Frequency\": 400, \"Land Cover\": \"Laubw\\u00e4lder\"}, {\"Frequency\": 19, \"Land Cover\": \"Mischw\\u00e4lder\"}, {\"Frequency\": 121, \"Land Cover\": \"Nadelw\\u00e4lder\"}, {\"Frequency\": 7, \"Land Cover\": \"Nat\\u00fcrliche und extensiv genutzte Gr\\u00fcnfl\\u00e4chen\"}, {\"Frequency\": 87, \"Land Cover\": \"No data\"}, {\"Frequency\": 0, \"Land Cover\": \"Offene Meere\"}, {\"Frequency\": 0, \"Land Cover\": \"Siedlungsfl\\u00e4che mit hoher Baudichte\"}, {\"Frequency\": 98, \"Land Cover\": \"Siedlungsfl\\u00e4che mit niedriger Baudichte\"}, {\"Frequency\": 0, \"Land Cover\": \"Standgew\\u00e4sser\"}, {\"Frequency\": 0, \"Land Cover\": \"Vegetationsarme Fl\\u00e4chen\"}, {\"Frequency\": 0, \"Land Cover\": \"Verkehrsinfrastruktur\"}, {\"Frequency\": 36, \"Land Cover\": \"Wald-Strauch-\\u00dcbergangsfl\\u00e4chen\"}, {\"Frequency\": 0, \"Land Cover\": \"Watt\"}]}}, {\"mode\": \"vega-lite\"});\n",
       "</script>"
      ],
      "text/plain": [
       "alt.Chart(...)"
      ]
     },
     "execution_count": 23,
     "metadata": {},
     "output_type": "execute_result"
    }
   ],
   "source": [
    "#Request the plot from Geo Engine\n",
    "plot_felis_silvestris = workflow_felis_silvestris_full.plot_chart(\n",
    "    ge.QueryRectangle(\n",
    "        ge.BoundingBox2D(5.852490, 47.271121, 15.022059, 55.065334),\n",
    "        ge.TimeInterval(time, time),\n",
    "        resolution=ge.SpatialResolution(0.1, 0.1),\n",
    "        srs=\"EPSG:4326\"\n",
    "    )\n",
    ")\n",
    "\n",
    "#Show the plot\n",
    "alt.Chart.from_dict(plot_felis_silvestris.spec)"
   ]
  },
  {
   "cell_type": "markdown",
   "id": "fa5d62b6-3568-4109-94d9-a7b7766f1f96",
   "metadata": {},
   "source": [
    "# Comparison *Canis lupus* and *Felis silvestris*"
   ]
  },
  {
   "cell_type": "code",
   "execution_count": 24,
   "id": "7148744a-8a17-4b31-a5ac-3737374ac514",
   "metadata": {},
   "outputs": [
    {
     "data": {
      "text/html": [
       "\n",
       "<style>\n",
       "  #altair-viz-161391248c3048a2bcd61b1a179c5c83.vega-embed {\n",
       "    width: 100%;\n",
       "    display: flex;\n",
       "  }\n",
       "\n",
       "  #altair-viz-161391248c3048a2bcd61b1a179c5c83.vega-embed details,\n",
       "  #altair-viz-161391248c3048a2bcd61b1a179c5c83.vega-embed details summary {\n",
       "    position: relative;\n",
       "  }\n",
       "</style>\n",
       "<div id=\"altair-viz-161391248c3048a2bcd61b1a179c5c83\"></div>\n",
       "<script type=\"text/javascript\">\n",
       "  var VEGA_DEBUG = (typeof VEGA_DEBUG == \"undefined\") ? {} : VEGA_DEBUG;\n",
       "  (function(spec, embedOpt){\n",
       "    let outputDiv = document.currentScript.previousElementSibling;\n",
       "    if (outputDiv.id !== \"altair-viz-161391248c3048a2bcd61b1a179c5c83\") {\n",
       "      outputDiv = document.getElementById(\"altair-viz-161391248c3048a2bcd61b1a179c5c83\");\n",
       "    }\n",
       "    const paths = {\n",
       "      \"vega\": \"https://cdn.jsdelivr.net/npm/vega@5?noext\",\n",
       "      \"vega-lib\": \"https://cdn.jsdelivr.net/npm/vega-lib?noext\",\n",
       "      \"vega-lite\": \"https://cdn.jsdelivr.net/npm/vega-lite@5.16.3?noext\",\n",
       "      \"vega-embed\": \"https://cdn.jsdelivr.net/npm/vega-embed@6?noext\",\n",
       "    };\n",
       "\n",
       "    function maybeLoadScript(lib, version) {\n",
       "      var key = `${lib.replace(\"-\", \"\")}_version`;\n",
       "      return (VEGA_DEBUG[key] == version) ?\n",
       "        Promise.resolve(paths[lib]) :\n",
       "        new Promise(function(resolve, reject) {\n",
       "          var s = document.createElement('script');\n",
       "          document.getElementsByTagName(\"head\")[0].appendChild(s);\n",
       "          s.async = true;\n",
       "          s.onload = () => {\n",
       "            VEGA_DEBUG[key] = version;\n",
       "            return resolve(paths[lib]);\n",
       "          };\n",
       "          s.onerror = () => reject(`Error loading script: ${paths[lib]}`);\n",
       "          s.src = paths[lib];\n",
       "        });\n",
       "    }\n",
       "\n",
       "    function showError(err) {\n",
       "      outputDiv.innerHTML = `<div class=\"error\" style=\"color:red;\">${err}</div>`;\n",
       "      throw err;\n",
       "    }\n",
       "\n",
       "    function displayChart(vegaEmbed) {\n",
       "      vegaEmbed(outputDiv, spec, embedOpt)\n",
       "        .catch(err => showError(`Javascript Error: ${err.message}<br>This usually means there's a typo in your chart specification. See the javascript console for the full traceback.`));\n",
       "    }\n",
       "\n",
       "    if(typeof define === \"function\" && define.amd) {\n",
       "      requirejs.config({paths});\n",
       "      require([\"vega-embed\"], displayChart, err => showError(`Error loading script: ${err.message}`));\n",
       "    } else {\n",
       "      maybeLoadScript(\"vega\", \"5\")\n",
       "        .then(() => maybeLoadScript(\"vega-lite\", \"5.16.3\"))\n",
       "        .then(() => maybeLoadScript(\"vega-embed\", \"6\"))\n",
       "        .catch(showError)\n",
       "        .then(() => displayChart(vegaEmbed));\n",
       "    }\n",
       "  })({\"config\": {\"view\": {\"continuousWidth\": 300, \"continuousHeight\": 300}}, \"data\": {\"name\": \"data-0b131b4d59b0b956f7e95f713ccd6306\"}, \"mark\": \"bar\", \"encoding\": {\"x\": {\"axis\": {\"labelAngle\": -45}, \"field\": \"Land Cover\", \"type\": \"nominal\"}, \"y\": {\"field\": \"Frequency\", \"type\": \"quantitative\"}}, \"width\": \"container\", \"$schema\": \"https://vega.github.io/schema/vega-lite/v5.json\", \"datasets\": {\"data-0b131b4d59b0b956f7e95f713ccd6306\": [{\"Frequency\": 0, \"Land Cover\": \"Abbaufl\\u00e4chen, Deponien und Baustellen\"}, {\"Frequency\": 560, \"Land Cover\": \"Ackerland\"}, {\"Frequency\": 8, \"Land Cover\": \"Dauerlandkulturen\"}, {\"Frequency\": 0, \"Land Cover\": \"Feldhecken\"}, {\"Frequency\": 3, \"Land Cover\": \"Feuchtgebiete\"}, {\"Frequency\": 0, \"Land Cover\": \"Flie\\u00dfgew\\u00e4sser\"}, {\"Frequency\": 26, \"Land Cover\": \"Freizeit- und urbane Gr\\u00fcnfl\\u00e4chen\"}, {\"Frequency\": 143, \"Land Cover\": \"Gr\\u00fcnland\"}, {\"Frequency\": 0, \"Land Cover\": \"K\\u00fcstennahe Meeresgew\\u00e4sser\"}, {\"Frequency\": 224, \"Land Cover\": \"Laubw\\u00e4lder\"}, {\"Frequency\": 16, \"Land Cover\": \"Mischw\\u00e4lder\"}, {\"Frequency\": 103, \"Land Cover\": \"Nadelw\\u00e4lder\"}, {\"Frequency\": 8, \"Land Cover\": \"Nat\\u00fcrliche und extensiv genutzte Gr\\u00fcnfl\\u00e4chen\"}, {\"Frequency\": 17, \"Land Cover\": \"No data\"}, {\"Frequency\": 0, \"Land Cover\": \"Offene Meere\"}, {\"Frequency\": 0, \"Land Cover\": \"Siedlungsfl\\u00e4che mit hoher Baudichte\"}, {\"Frequency\": 215, \"Land Cover\": \"Siedlungsfl\\u00e4che mit niedriger Baudichte\"}, {\"Frequency\": 33, \"Land Cover\": \"Standgew\\u00e4sser\"}, {\"Frequency\": 0, \"Land Cover\": \"Vegetationsarme Fl\\u00e4chen\"}, {\"Frequency\": 3, \"Land Cover\": \"Verkehrsinfrastruktur\"}, {\"Frequency\": 8, \"Land Cover\": \"Wald-Strauch-\\u00dcbergangsfl\\u00e4chen\"}, {\"Frequency\": 0, \"Land Cover\": \"Watt\"}]}}, {\"mode\": \"vega-lite\"});\n",
       "</script>"
      ],
      "text/plain": [
       "alt.Chart(...)"
      ]
     },
     "execution_count": 24,
     "metadata": {},
     "output_type": "execute_result"
    }
   ],
   "source": [
    "#Show the plot from Canis lupus\n",
    "alt.Chart.from_dict(plot_canis_lupus.spec)"
   ]
  },
  {
   "cell_type": "code",
   "execution_count": 25,
   "id": "e4079b08-e572-4113-bd67-381fdc69e255",
   "metadata": {},
   "outputs": [
    {
     "data": {
      "text/html": [
       "\n",
       "<style>\n",
       "  #altair-viz-ab9f949d3df74472950a3ba3cf342b79.vega-embed {\n",
       "    width: 100%;\n",
       "    display: flex;\n",
       "  }\n",
       "\n",
       "  #altair-viz-ab9f949d3df74472950a3ba3cf342b79.vega-embed details,\n",
       "  #altair-viz-ab9f949d3df74472950a3ba3cf342b79.vega-embed details summary {\n",
       "    position: relative;\n",
       "  }\n",
       "</style>\n",
       "<div id=\"altair-viz-ab9f949d3df74472950a3ba3cf342b79\"></div>\n",
       "<script type=\"text/javascript\">\n",
       "  var VEGA_DEBUG = (typeof VEGA_DEBUG == \"undefined\") ? {} : VEGA_DEBUG;\n",
       "  (function(spec, embedOpt){\n",
       "    let outputDiv = document.currentScript.previousElementSibling;\n",
       "    if (outputDiv.id !== \"altair-viz-ab9f949d3df74472950a3ba3cf342b79\") {\n",
       "      outputDiv = document.getElementById(\"altair-viz-ab9f949d3df74472950a3ba3cf342b79\");\n",
       "    }\n",
       "    const paths = {\n",
       "      \"vega\": \"https://cdn.jsdelivr.net/npm/vega@5?noext\",\n",
       "      \"vega-lib\": \"https://cdn.jsdelivr.net/npm/vega-lib?noext\",\n",
       "      \"vega-lite\": \"https://cdn.jsdelivr.net/npm/vega-lite@5.16.3?noext\",\n",
       "      \"vega-embed\": \"https://cdn.jsdelivr.net/npm/vega-embed@6?noext\",\n",
       "    };\n",
       "\n",
       "    function maybeLoadScript(lib, version) {\n",
       "      var key = `${lib.replace(\"-\", \"\")}_version`;\n",
       "      return (VEGA_DEBUG[key] == version) ?\n",
       "        Promise.resolve(paths[lib]) :\n",
       "        new Promise(function(resolve, reject) {\n",
       "          var s = document.createElement('script');\n",
       "          document.getElementsByTagName(\"head\")[0].appendChild(s);\n",
       "          s.async = true;\n",
       "          s.onload = () => {\n",
       "            VEGA_DEBUG[key] = version;\n",
       "            return resolve(paths[lib]);\n",
       "          };\n",
       "          s.onerror = () => reject(`Error loading script: ${paths[lib]}`);\n",
       "          s.src = paths[lib];\n",
       "        });\n",
       "    }\n",
       "\n",
       "    function showError(err) {\n",
       "      outputDiv.innerHTML = `<div class=\"error\" style=\"color:red;\">${err}</div>`;\n",
       "      throw err;\n",
       "    }\n",
       "\n",
       "    function displayChart(vegaEmbed) {\n",
       "      vegaEmbed(outputDiv, spec, embedOpt)\n",
       "        .catch(err => showError(`Javascript Error: ${err.message}<br>This usually means there's a typo in your chart specification. See the javascript console for the full traceback.`));\n",
       "    }\n",
       "\n",
       "    if(typeof define === \"function\" && define.amd) {\n",
       "      requirejs.config({paths});\n",
       "      require([\"vega-embed\"], displayChart, err => showError(`Error loading script: ${err.message}`));\n",
       "    } else {\n",
       "      maybeLoadScript(\"vega\", \"5\")\n",
       "        .then(() => maybeLoadScript(\"vega-lite\", \"5.16.3\"))\n",
       "        .then(() => maybeLoadScript(\"vega-embed\", \"6\"))\n",
       "        .catch(showError)\n",
       "        .then(() => displayChart(vegaEmbed));\n",
       "    }\n",
       "  })({\"config\": {\"view\": {\"continuousWidth\": 300, \"continuousHeight\": 300}}, \"data\": {\"name\": \"data-996c3a05a6cfb1a77a818dfb9ae2980a\"}, \"mark\": \"bar\", \"encoding\": {\"x\": {\"axis\": {\"labelAngle\": -45}, \"field\": \"Land Cover\", \"type\": \"nominal\"}, \"y\": {\"field\": \"Frequency\", \"type\": \"quantitative\"}}, \"width\": \"container\", \"$schema\": \"https://vega.github.io/schema/vega-lite/v5.json\", \"datasets\": {\"data-996c3a05a6cfb1a77a818dfb9ae2980a\": [{\"Frequency\": 0, \"Land Cover\": \"Abbaufl\\u00e4chen, Deponien und Baustellen\"}, {\"Frequency\": 175, \"Land Cover\": \"Ackerland\"}, {\"Frequency\": 7, \"Land Cover\": \"Dauerlandkulturen\"}, {\"Frequency\": 0, \"Land Cover\": \"Feldhecken\"}, {\"Frequency\": 0, \"Land Cover\": \"Feuchtgebiete\"}, {\"Frequency\": 10, \"Land Cover\": \"Flie\\u00dfgew\\u00e4sser\"}, {\"Frequency\": 4, \"Land Cover\": \"Freizeit- und urbane Gr\\u00fcnfl\\u00e4chen\"}, {\"Frequency\": 197, \"Land Cover\": \"Gr\\u00fcnland\"}, {\"Frequency\": 0, \"Land Cover\": \"K\\u00fcstennahe Meeresgew\\u00e4sser\"}, {\"Frequency\": 400, \"Land Cover\": \"Laubw\\u00e4lder\"}, {\"Frequency\": 19, \"Land Cover\": \"Mischw\\u00e4lder\"}, {\"Frequency\": 121, \"Land Cover\": \"Nadelw\\u00e4lder\"}, {\"Frequency\": 7, \"Land Cover\": \"Nat\\u00fcrliche und extensiv genutzte Gr\\u00fcnfl\\u00e4chen\"}, {\"Frequency\": 87, \"Land Cover\": \"No data\"}, {\"Frequency\": 0, \"Land Cover\": \"Offene Meere\"}, {\"Frequency\": 0, \"Land Cover\": \"Siedlungsfl\\u00e4che mit hoher Baudichte\"}, {\"Frequency\": 98, \"Land Cover\": \"Siedlungsfl\\u00e4che mit niedriger Baudichte\"}, {\"Frequency\": 0, \"Land Cover\": \"Standgew\\u00e4sser\"}, {\"Frequency\": 0, \"Land Cover\": \"Vegetationsarme Fl\\u00e4chen\"}, {\"Frequency\": 0, \"Land Cover\": \"Verkehrsinfrastruktur\"}, {\"Frequency\": 36, \"Land Cover\": \"Wald-Strauch-\\u00dcbergangsfl\\u00e4chen\"}, {\"Frequency\": 0, \"Land Cover\": \"Watt\"}]}}, {\"mode\": \"vega-lite\"});\n",
       "</script>"
      ],
      "text/plain": [
       "alt.Chart(...)"
      ]
     },
     "execution_count": 25,
     "metadata": {},
     "output_type": "execute_result"
    }
   ],
   "source": [
    "#Show the plot from Felis silvestris\n",
    "alt.Chart.from_dict(plot_felis_silvestris.spec)"
   ]
  },
  {
   "cell_type": "markdown",
   "id": "4b597518-0ff0-4d39-a7b6-80986ae8a6f5",
   "metadata": {},
   "source": [
    "# Further experiments"
   ]
  },
  {
   "cell_type": "markdown",
   "id": "d07c6bfa-8a5c-40d1-a081-9b4d3ecf2094",
   "metadata": {},
   "source": [
    "In this chapter, some other useful links between Geo Engine and Python are shown."
   ]
  },
  {
   "cell_type": "code",
   "execution_count": 26,
   "id": "4ecd688c-0548-4610-a386-b064ad4920e4",
   "metadata": {},
   "outputs": [
    {
     "data": {
      "text/html": [
       "\n",
       "<style>\n",
       "  #altair-viz-3f45b7cfd5fe4d82a2cec95bfedb56dc.vega-embed {\n",
       "    width: 100%;\n",
       "    display: flex;\n",
       "  }\n",
       "\n",
       "  #altair-viz-3f45b7cfd5fe4d82a2cec95bfedb56dc.vega-embed details,\n",
       "  #altair-viz-3f45b7cfd5fe4d82a2cec95bfedb56dc.vega-embed details summary {\n",
       "    position: relative;\n",
       "  }\n",
       "</style>\n",
       "<div id=\"altair-viz-3f45b7cfd5fe4d82a2cec95bfedb56dc\"></div>\n",
       "<script type=\"text/javascript\">\n",
       "  var VEGA_DEBUG = (typeof VEGA_DEBUG == \"undefined\") ? {} : VEGA_DEBUG;\n",
       "  (function(spec, embedOpt){\n",
       "    let outputDiv = document.currentScript.previousElementSibling;\n",
       "    if (outputDiv.id !== \"altair-viz-3f45b7cfd5fe4d82a2cec95bfedb56dc\") {\n",
       "      outputDiv = document.getElementById(\"altair-viz-3f45b7cfd5fe4d82a2cec95bfedb56dc\");\n",
       "    }\n",
       "    const paths = {\n",
       "      \"vega\": \"https://cdn.jsdelivr.net/npm/vega@5?noext\",\n",
       "      \"vega-lib\": \"https://cdn.jsdelivr.net/npm/vega-lib?noext\",\n",
       "      \"vega-lite\": \"https://cdn.jsdelivr.net/npm/vega-lite@5.16.3?noext\",\n",
       "      \"vega-embed\": \"https://cdn.jsdelivr.net/npm/vega-embed@6?noext\",\n",
       "    };\n",
       "\n",
       "    function maybeLoadScript(lib, version) {\n",
       "      var key = `${lib.replace(\"-\", \"\")}_version`;\n",
       "      return (VEGA_DEBUG[key] == version) ?\n",
       "        Promise.resolve(paths[lib]) :\n",
       "        new Promise(function(resolve, reject) {\n",
       "          var s = document.createElement('script');\n",
       "          document.getElementsByTagName(\"head\")[0].appendChild(s);\n",
       "          s.async = true;\n",
       "          s.onload = () => {\n",
       "            VEGA_DEBUG[key] = version;\n",
       "            return resolve(paths[lib]);\n",
       "          };\n",
       "          s.onerror = () => reject(`Error loading script: ${paths[lib]}`);\n",
       "          s.src = paths[lib];\n",
       "        });\n",
       "    }\n",
       "\n",
       "    function showError(err) {\n",
       "      outputDiv.innerHTML = `<div class=\"error\" style=\"color:red;\">${err}</div>`;\n",
       "      throw err;\n",
       "    }\n",
       "\n",
       "    function displayChart(vegaEmbed) {\n",
       "      vegaEmbed(outputDiv, spec, embedOpt)\n",
       "        .catch(err => showError(`Javascript Error: ${err.message}<br>This usually means there's a typo in your chart specification. See the javascript console for the full traceback.`));\n",
       "    }\n",
       "\n",
       "    if(typeof define === \"function\" && define.amd) {\n",
       "      requirejs.config({paths});\n",
       "      require([\"vega-embed\"], displayChart, err => showError(`Error loading script: ${err.message}`));\n",
       "    } else {\n",
       "      maybeLoadScript(\"vega\", \"5\")\n",
       "        .then(() => maybeLoadScript(\"vega-lite\", \"5.16.3\"))\n",
       "        .then(() => maybeLoadScript(\"vega-embed\", \"6\"))\n",
       "        .catch(showError)\n",
       "        .then(() => displayChart(vegaEmbed));\n",
       "    }\n",
       "  })({\"config\": {\"view\": {\"continuousWidth\": 300, \"continuousHeight\": 300}}, \"data\": {\"name\": \"data-a02c206c3c98f07971a534e0728876cf\"}, \"mark\": {\"type\": \"bar\"}, \"encoding\": {\"color\": {\"field\": \"dataset\", \"title\": \"Dataset\", \"type\": \"nominal\"}, \"x\": {\"field\": \"Land Cover\", \"title\": \"Land Cover\", \"type\": \"nominal\"}, \"xOffset\": {\"field\": \"dataset\", \"title\": \"Dataset\", \"type\": \"nominal\"}, \"y\": {\"field\": \"Frequency\", \"title\": \"Frequency\", \"type\": \"quantitative\"}}, \"width\": 600, \"$schema\": \"https://vega.github.io/schema/vega-lite/v5.16.3.json\", \"datasets\": {\"data-a02c206c3c98f07971a534e0728876cf\": [{\"Frequency\": 0, \"Land Cover\": \"Abbaufl\\u00e4chen, Deponien und Baustellen\", \"dataset\": \"Canis lupus\"}, {\"Frequency\": 560, \"Land Cover\": \"Ackerland\", \"dataset\": \"Canis lupus\"}, {\"Frequency\": 8, \"Land Cover\": \"Dauerlandkulturen\", \"dataset\": \"Canis lupus\"}, {\"Frequency\": 0, \"Land Cover\": \"Feldhecken\", \"dataset\": \"Canis lupus\"}, {\"Frequency\": 3, \"Land Cover\": \"Feuchtgebiete\", \"dataset\": \"Canis lupus\"}, {\"Frequency\": 0, \"Land Cover\": \"Flie\\u00dfgew\\u00e4sser\", \"dataset\": \"Canis lupus\"}, {\"Frequency\": 26, \"Land Cover\": \"Freizeit- und urbane Gr\\u00fcnfl\\u00e4chen\", \"dataset\": \"Canis lupus\"}, {\"Frequency\": 143, \"Land Cover\": \"Gr\\u00fcnland\", \"dataset\": \"Canis lupus\"}, {\"Frequency\": 0, \"Land Cover\": \"K\\u00fcstennahe Meeresgew\\u00e4sser\", \"dataset\": \"Canis lupus\"}, {\"Frequency\": 224, \"Land Cover\": \"Laubw\\u00e4lder\", \"dataset\": \"Canis lupus\"}, {\"Frequency\": 16, \"Land Cover\": \"Mischw\\u00e4lder\", \"dataset\": \"Canis lupus\"}, {\"Frequency\": 103, \"Land Cover\": \"Nadelw\\u00e4lder\", \"dataset\": \"Canis lupus\"}, {\"Frequency\": 8, \"Land Cover\": \"Nat\\u00fcrliche und extensiv genutzte Gr\\u00fcnfl\\u00e4chen\", \"dataset\": \"Canis lupus\"}, {\"Frequency\": 17, \"Land Cover\": \"No data\", \"dataset\": \"Canis lupus\"}, {\"Frequency\": 0, \"Land Cover\": \"Offene Meere\", \"dataset\": \"Canis lupus\"}, {\"Frequency\": 0, \"Land Cover\": \"Siedlungsfl\\u00e4che mit hoher Baudichte\", \"dataset\": \"Canis lupus\"}, {\"Frequency\": 215, \"Land Cover\": \"Siedlungsfl\\u00e4che mit niedriger Baudichte\", \"dataset\": \"Canis lupus\"}, {\"Frequency\": 33, \"Land Cover\": \"Standgew\\u00e4sser\", \"dataset\": \"Canis lupus\"}, {\"Frequency\": 0, \"Land Cover\": \"Vegetationsarme Fl\\u00e4chen\", \"dataset\": \"Canis lupus\"}, {\"Frequency\": 3, \"Land Cover\": \"Verkehrsinfrastruktur\", \"dataset\": \"Canis lupus\"}, {\"Frequency\": 8, \"Land Cover\": \"Wald-Strauch-\\u00dcbergangsfl\\u00e4chen\", \"dataset\": \"Canis lupus\"}, {\"Frequency\": 0, \"Land Cover\": \"Watt\", \"dataset\": \"Canis lupus\"}, {\"Frequency\": 0, \"Land Cover\": \"Abbaufl\\u00e4chen, Deponien und Baustellen\", \"dataset\": \"Felis silvestris\"}, {\"Frequency\": 175, \"Land Cover\": \"Ackerland\", \"dataset\": \"Felis silvestris\"}, {\"Frequency\": 7, \"Land Cover\": \"Dauerlandkulturen\", \"dataset\": \"Felis silvestris\"}, {\"Frequency\": 0, \"Land Cover\": \"Feldhecken\", \"dataset\": \"Felis silvestris\"}, {\"Frequency\": 0, \"Land Cover\": \"Feuchtgebiete\", \"dataset\": \"Felis silvestris\"}, {\"Frequency\": 10, \"Land Cover\": \"Flie\\u00dfgew\\u00e4sser\", \"dataset\": \"Felis silvestris\"}, {\"Frequency\": 4, \"Land Cover\": \"Freizeit- und urbane Gr\\u00fcnfl\\u00e4chen\", \"dataset\": \"Felis silvestris\"}, {\"Frequency\": 197, \"Land Cover\": \"Gr\\u00fcnland\", \"dataset\": \"Felis silvestris\"}, {\"Frequency\": 0, \"Land Cover\": \"K\\u00fcstennahe Meeresgew\\u00e4sser\", \"dataset\": \"Felis silvestris\"}, {\"Frequency\": 400, \"Land Cover\": \"Laubw\\u00e4lder\", \"dataset\": \"Felis silvestris\"}, {\"Frequency\": 19, \"Land Cover\": \"Mischw\\u00e4lder\", \"dataset\": \"Felis silvestris\"}, {\"Frequency\": 121, \"Land Cover\": \"Nadelw\\u00e4lder\", \"dataset\": \"Felis silvestris\"}, {\"Frequency\": 7, \"Land Cover\": \"Nat\\u00fcrliche und extensiv genutzte Gr\\u00fcnfl\\u00e4chen\", \"dataset\": \"Felis silvestris\"}, {\"Frequency\": 87, \"Land Cover\": \"No data\", \"dataset\": \"Felis silvestris\"}, {\"Frequency\": 0, \"Land Cover\": \"Offene Meere\", \"dataset\": \"Felis silvestris\"}, {\"Frequency\": 0, \"Land Cover\": \"Siedlungsfl\\u00e4che mit hoher Baudichte\", \"dataset\": \"Felis silvestris\"}, {\"Frequency\": 98, \"Land Cover\": \"Siedlungsfl\\u00e4che mit niedriger Baudichte\", \"dataset\": \"Felis silvestris\"}, {\"Frequency\": 0, \"Land Cover\": \"Standgew\\u00e4sser\", \"dataset\": \"Felis silvestris\"}, {\"Frequency\": 0, \"Land Cover\": \"Vegetationsarme Fl\\u00e4chen\", \"dataset\": \"Felis silvestris\"}, {\"Frequency\": 0, \"Land Cover\": \"Verkehrsinfrastruktur\", \"dataset\": \"Felis silvestris\"}, {\"Frequency\": 36, \"Land Cover\": \"Wald-Strauch-\\u00dcbergangsfl\\u00e4chen\", \"dataset\": \"Felis silvestris\"}, {\"Frequency\": 0, \"Land Cover\": \"Watt\", \"dataset\": \"Felis silvestris\"}]}}, {\"mode\": \"vega-lite\"});\n",
       "</script>"
      ],
      "text/plain": [
       "alt.Chart(...)"
      ]
     },
     "execution_count": 26,
     "metadata": {},
     "output_type": "execute_result"
    }
   ],
   "source": [
    "#Comparison plots\n",
    "import pandas as pd\n",
    "\n",
    "# Convert the JSON data to pandas DataFrames\n",
    "df1 = pd.DataFrame(plot_canis_lupus.spec['data']['values'])\n",
    "df2 = pd.DataFrame(plot_felis_silvestris.spec['data']['values'])\n",
    "\n",
    "df1['dataset'] = 'Canis lupus'\n",
    "df2['dataset'] = 'Felis silvestris'\n",
    "\n",
    "combined_df = pd.concat([df1, df2])\n",
    "\n",
    "chart = alt.Chart(combined_df).mark_bar().encode(\n",
    "    x=alt.X('Land Cover:N', title='Land Cover'),\n",
    "    y=alt.Y('Frequency:Q', title='Frequency'),\n",
    "    color=alt.Color('dataset:N', title='Dataset'),\n",
    "    xOffset=alt.Color('dataset:N', title='Dataset')\n",
    ").properties(width=600)\n",
    "\n",
    "# Display the grouped barplot\n",
    "chart"
   ]
  },
  {
   "cell_type": "code",
   "execution_count": 27,
   "id": "a277eb3b-7eb4-482b-9364-560f40396d0c",
   "metadata": {},
   "outputs": [
    {
     "data": {
      "text/plain": [
       "<Axes: >"
      ]
     },
     "execution_count": 27,
     "metadata": {},
     "output_type": "execute_result"
    },
    {
     "data": {
      "image/png": "[encoded data removed]",
      "text/plain": [
       "<Figure size 640x480 with 1 Axes>"
      ]
     },
     "metadata": {},
     "output_type": "display_data"
    }
   ],
   "source": [
    "#Plotting of multiple species\n",
    "import geopandas as gpd\n",
    "\n",
    "gdf1 = data_canis_lupus\n",
    "gdf2 = data_felis_silvestris\n",
    "\n",
    "gdf1['dataset'] = 'Canis lupus'\n",
    "gdf2['dataset'] = 'Felis silvestris'\n",
    "\n",
    "combined_gdf = pd.concat([gdf1, gdf2])\n",
    "\n",
    "combined_gdf.plot(column='dataset', cmap='rainbow', markersize=5, legend=True)"
   ]
  },
  {
   "cell_type": "code",
   "execution_count": null,
   "id": "46d34417-749d-4fb3-81b1-5621174a68bf",
   "metadata": {},
   "outputs": [],
   "source": []
  }
 ],
 "metadata": {
  "kernelspec": {
   "display_name": "geoengine-kernel",
   "language": "python",
   "name": "geoengine-kernel"
  },
  "language_info": {
   "codemirror_mode": {
    "name": "ipython",
    "version": 3
   },
   "file_extension": ".py",
   "mimetype": "text/x-python",
   "name": "python",
   "nbconvert_exporter": "python",
   "pygments_lexer": "ipython3",
   "version": "3.10.12"
  }
 },
 "nbformat": 4,
 "nbformat_minor": 5
}
